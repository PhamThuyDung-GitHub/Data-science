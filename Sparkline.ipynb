{
 "cells": [
  {
   "cell_type": "code",
   "execution_count": 1,
   "metadata": {},
   "outputs": [],
   "source": [
    "import numpy as np \n",
    "import pandas as pd \n",
    "import matplotlib.pyplot as plt \n",
    "\n",
    "from base64 import b64encode \n",
    "from io import BytesIO \n",
    "from IPython.display import HTML \n",
    "from matplotlib_inline.backend_inline import set_matplotlib_formats \n",
    "\n",
    "set_matplotlib_formats('svg')"
   ]
  },
  {
   "cell_type": "code",
   "execution_count": 2,
   "metadata": {},
   "outputs": [],
   "source": [
    "colors = ['#fe7c73', '#2471A3', '#3498DB', '#27AE60']"
   ]
  },
  {
   "cell_type": "code",
   "execution_count": 3,
   "metadata": {},
   "outputs": [],
   "source": [
    "n = 100 \n",
    "data = [\n",
    "    ('APPL', 40000*np.random.rand(n).round(2)),\n",
    "    ('MSFT', 20000*np.random.rand(n).round(2)),\n",
    "    ('GOOG', 500*np.random.rand(n).round(2)),\n",
    "    ('META', 150*np.random.rand(n).round(2)), \n",
    "]\n",
    "\n",
    "df = pd.DataFrame(data, columns=['Name', 'Price History'])"
   ]
  },
  {
   "cell_type": "code",
   "execution_count": 4,
   "metadata": {},
   "outputs": [],
   "source": [
    "def create_line(data):\n",
    "\n",
    "    data = list(data)\n",
    "\n",
    "    fig, ax = plt.subplots(1, 1, figsize=(2, 0.5), facecolor='none')\n",
    "\n",
    "    if data[0]>data[-1]:\n",
    "        chart_color = colors[0]\n",
    "    else: \n",
    "        chart_color = colors[3]\n",
    "    \n",
    "    ax.plot(data, color=chart_color)\n",
    "\n",
    "    ax.axis('off')\n",
    "    plt.plot(len(data) - 1, data[len(data) - 1], 'b.')\n",
    "\n",
    "    plt.close(fig)\n",
    "\n",
    "    img = BytesIO()\n",
    "\n",
    "    fig.savefig(img, format='png')\n",
    "    \n",
    "    encoded = b64encode(img.getvalue())\n",
    "\n",
    "    decoded = encoded.decode('utf-8')\n",
    "\n",
    "    return '<img src=\"data:image/png;base64,{}\"/>'.format(decoded)"
   ]
  },
  {
   "cell_type": "code",
   "execution_count": 5,
   "metadata": {},
   "outputs": [],
   "source": [
    "from base64 import b64encode \n",
    "from io import BytesIO\n",
    "\n",
    "def create_hist(data):\n",
    "    fig, ax = plt.subplots(figsize=(2, 0.5), facecolor='none')\n",
    "    ax.hist(data, bins=10, color=colors[2])\n",
    "    ax.axis('off')\n",
    "    plt.close(fig)\n",
    "    img = BytesIO()\n",
    "    fig.savefig(img)\n",
    "    encoded = b64encode(img.getvalue())\n",
    "    decoded = encoded.decode('utf-8')\n",
    "    return f'<img src=\"data:png;base64,{decoded}\">'"
   ]
  },
  {
   "cell_type": "code",
   "execution_count": 6,
   "metadata": {},
   "outputs": [
    {
     "data": {
      "text/html": [
       "<table border=\"1\" class=\"dataframe\">\n",
       "  <thead>\n",
       "    <tr style=\"text-align: right;\">\n",
       "      <th></th>\n",
       "      <th>Name</th>\n",
       "      <th>Day Price History</th>\n",
       "      <th>Hourly Trade Volume</th>\n",
       "    </tr>\n",
       "  </thead>\n",
       "  <tbody>\n",
       "    <tr>\n",
       "      <th>0</th>\n",
       "      <td>APPL</td>\n",
       "      <td><img src=\"data:image/png;base64,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\"/></td>\n",
       "      <td><img src=\"data:png;base64,iVBORw0KGgoAAAANSUhEUgAAAMgAAAAyCAYAAAAZUZThAAAAOnRFWHRTb2Z0d2FyZQBNYXRwbG90bGliIHZlcnNpb24zLjEwLjAsIGh0dHBzOi8vbWF0cGxvdGxpYi5vcmcvlHJYcgAAAAlwSFlzAAAPYQAAD2EBqD+naQAAAN5JREFUeJzt3NENgkAQQEExlmIL1mRN1mQL9nI2oO+DEE90pgEuJC+7QMIyxjgArx1nHwC+mUAgCASCQCAIBIJAIAgEwmn2Ada63B6rPuDcr+dl67Pwu0wQCAKBIBAIAoGw24f0T/NSYHt7uKcmCASBQPi7FWvtWJ9xPevZfCYIBIFAmL5ifXrl2RP3Zj4TBIJAIAgEgkAgCASCQCAIBIJAIAgEgkAgCASCQCAIBIJAIAgEgkAgCASCQCAIBIJAIAgEgkAgCASCQCAIBMIyhp/3wTsmCASBQBAIBIFAeAJ3Ih5g7PlvcwAAAABJRU5ErkJggg==\"></td>\n",
       "    </tr>\n",
       "    <tr>\n",
       "      <th>1</th>\n",
       "      <td>MSFT</td>\n",
       "      <td><img src=\"data:image/png;base64,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\"/></td>\n",
       "      <td><img src=\"data:png;base64,iVBORw0KGgoAAAANSUhEUgAAAMgAAAAyCAYAAAAZUZThAAAAOnRFWHRTb2Z0d2FyZQBNYXRwbG90bGliIHZlcnNpb24zLjEwLjAsIGh0dHBzOi8vbWF0cGxvdGxpYi5vcmcvlHJYcgAAAAlwSFlzAAAPYQAAD2EBqD+naQAAAOBJREFUeJzt3NENgjAUQFExjuIKzuRMzuQK7oILyE0kxkI4Z4L+3L4CKdM8zyfgs/PoBcCWCQSCQCAIBIJAIAgEgkAgXEYvgP27PV6rPqY979fp12v5NRMEwuEmyNrdbq097JIsM0EgCATC4Y5YLPv38XMPTBAIAoEgEAgCgeAhfcM8NI9ngkAQCASBQBAIBIFAEAgEgUCYRv9Z0bt+vvXPOzYmCASBQBAIBIFAEAgEgUAQCASBQBAIBIFAEAgEgUAQCASBQBAIBIFAEAgEgUAYfuUWtswEgSAQCAKBIBAIbx0JGrMnX+seAAAAAElFTkSuQmCC\"></td>\n",
       "    </tr>\n",
       "    <tr>\n",
       "      <th>2</th>\n",
       "      <td>GOOG</td>\n",
       "      <td><img src=\"data:image/png;base64,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\"/></td>\n",
       "      <td><img src=\"data:png;base64,iVBORw0KGgoAAAANSUhEUgAAAMgAAAAyCAYAAAAZUZThAAAAOnRFWHRTb2Z0d2FyZQBNYXRwbG90bGliIHZlcnNpb24zLjEwLjAsIGh0dHBzOi8vbWF0cGxvdGxpYi5vcmcvlHJYcgAAAAlwSFlzAAAPYQAAD2EBqD+naQAAAO5JREFUeJzt2tFtwkAQQEGMKIUWqCk1pSZaoJdLASHvw3Jkn5lpwBbS095yXsYYF+C9694vAEcmEAgCgSAQCAKBIBAIAoFw2/sF1np8v1Zd4Dy/7ssMz5vJmX8bEwSCQCAIBIJAIEy7pLO9tcv2mZkgEAQCQSAQBALh45b0mRbRM99Qz8IEgSAQCB93xOI4ZjhCmiAQBAJBIBAEAsGS/s9munfhNxMEgkAg7H7EcgThyEwQCAKBIBAIAoGw+5LO9vzxsR0TBIJAIAgEgkAgCASCQCAIBIJAIAgEgkAgLGP4KgH+YoJAEAgEgUAQCIQfClAnuLxzRpUAAAAASUVORK5CYII=\"></td>\n",
       "    </tr>\n",
       "    <tr>\n",
       "      <th>3</th>\n",
       "      <td>META</td>\n",
       "      <td><img src=\"data:image/png;base64,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\"/></td>\n",
       "      <td><img src=\"data:png;base64,iVBORw0KGgoAAAANSUhEUgAAAMgAAAAyCAYAAAAZUZThAAAAOnRFWHRTb2Z0d2FyZQBNYXRwbG90bGliIHZlcnNpb24zLjEwLjAsIGh0dHBzOi8vbWF0cGxvdGxpYi5vcmcvlHJYcgAAAAlwSFlzAAAPYQAAD2EBqD+naQAAAOpJREFUeJzt3IGJAjEQQNHbw1JswZqs6WqyBXuJBaifYxGykfcqCIHPDBvYbYzxA7z2O/sAcGQCgSAQCAKBIBAIAoEgEAin2QfY6/J33/WAc7uet0+f5WhWuZsVzmmCQBAIhGVXrL1WGOur2XunKzBBIAgEwvQV65vHM+szQSAIBML0FYvjsO4+M0EgCASCFeufZqwfHifnM0EgCASCFevAfFWazwSBIBAIAoEgEAgCgSAQCAKBIBAIAoEgEAgCgSAQCAKBIBAIAoEgEAgCgSAQCAKBIBAIAoGwjeHHGfCOCQJBIBAEAkEgEB7SziUNUflcWQAAAABJRU5ErkJggg==\"></td>\n",
       "    </tr>\n",
       "  </tbody>\n",
       "</table>"
      ],
      "text/plain": [
       "<IPython.core.display.HTML object>"
      ]
     },
     "execution_count": 6,
     "metadata": {},
     "output_type": "execute_result"
    }
   ],
   "source": [
    "df['Day Price History'] = df['Price History'].apply(create_line)\n",
    "df['Hourly Trade Volume'] = df['Price History'].apply(create_hist)\n",
    "HTML(df.drop(columns=[\"Price History\"]).to_html(escape=False))"
   ]
  },
  {
   "cell_type": "code",
   "execution_count": null,
   "metadata": {},
   "outputs": [],
   "source": []
  }
 ],
 "metadata": {
  "kernelspec": {
   "display_name": "Python 3",
   "language": "python",
   "name": "python3"
  },
  "language_info": {
   "codemirror_mode": {
    "name": "ipython",
    "version": 3
   },
   "file_extension": ".py",
   "mimetype": "text/x-python",
   "name": "python",
   "nbconvert_exporter": "python",
   "pygments_lexer": "ipython3",
   "version": "3.12.5"
  }
 },
 "nbformat": 4,
 "nbformat_minor": 2
}
