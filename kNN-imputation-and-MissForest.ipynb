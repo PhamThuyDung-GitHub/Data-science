{
 "cells": [
  {
   "cell_type": "markdown",
   "id": "01a8c06d",
   "metadata": {},
   "source": [
    "# Daily Dose of Data Science\n",
    "\n",
    "[MissForest and kNN Imputation for Data Missing at Random](https://blog.dailydoseofds.com/p/missforest-and-knn-imputation-for)\n",
    "\n",
    "Author: Avi Chawla"
   ]
  },
  {
   "cell_type": "markdown",
   "id": "b4d912db",
   "metadata": {},
   "source": [
    "## kNN imputation"
   ]
  },
  {
   "cell_type": "code",
   "execution_count": null,
   "id": "00f31b1c",
   "metadata": {},
   "outputs": [],
   "source": [
    "import warnings\n",
    "import numpy as np\n",
    "import pandas as pd\n",
    "import seaborn as sns\n",
    "import matplotlib.pyplot as plt\n",
    "\n",
    "from sklearn.impute import SimpleImputer, KNNImputer\n",
    "\n",
    "warnings.filterwarnings(\"ignore\")\n",
    "sns.set()"
   ]
  },
  {
   "cell_type": "code",
   "execution_count": null,
   "id": "72ebeaef",
   "metadata": {},
   "outputs": [],
   "source": [
    "plt.rcParams['font.family'] = ['Comic Sans MS', 'sans-serif']\n",
    "colors = ['#fe7c73', '#2471A3', '#3498DB', '#27AE60', '#82E0AA', '#D35400', '#5D6D7E', '#E74C3C', '#21618C', '#B7950B', '#46C7C7', '#00B9FF', '#FF7051', \"orange\", \"darkorange\", \"tomato\", \"coral\", \"limegreen\", \"lightsalmon\"]"
   ]
  },
  {
   "cell_type": "code",
   "execution_count": null,
   "id": "8e3afb8f",
   "metadata": {},
   "outputs": [],
   "source": [
    "# Step 2: Create the dummy dataset with missing values\n",
    "size = 1000\n",
    "data = np.random.normal(loc = 2, scale = 2, size=(size, 3))  # Generate random data\n",
    "mask = np.random.rand(size, 3) < 0.2  # Create a mask to introduce missing values\n",
    "data[mask] = np.nan  # Set missing values"
   ]
  },
  {
   "cell_type": "code",
   "execution_count": null,
   "id": "83a5eb54",
   "metadata": {},
   "outputs": [],
   "source": [
    "# Step 4: Impute missing values with mean and zero, and plot their distributions\n",
    "mean_imputer = SimpleImputer(strategy='mean')\n",
    "zero_imputer = SimpleImputer(strategy='constant', fill_value=0)\n",
    "\n",
    "data_imputed_mean = mean_imputer.fit_transform(data)\n",
    "data_imputed_zero = zero_imputer.fit_transform(data)"
   ]
  },
  {
   "cell_type": "code",
   "execution_count": null,
   "id": "535e0b11",
   "metadata": {},
   "outputs": [],
   "source": [
    "fig, ax = plt.subplots(figsize=(6, 4))\n",
    "\n",
    "# Original Distribution\n",
    "ax.hist(data.flatten(), bins=45, edgecolor='black', color = colors[1])\n",
    "ax.set_title(\"Original Distribution\", size = 20, weight=\"bold\", pad = 10)\n",
    "ax.set_xlabel(\"Value\", size = 15, weight=\"bold\")\n",
    "ax.set_ylabel(\"Frequency\", size = 15, weight=\"bold\")\n",
    "\n",
    "plt.show();"
   ]
  },
  {
   "cell_type": "code",
   "execution_count": null,
   "id": "f9075aab",
   "metadata": {},
   "outputs": [],
   "source": [
    "fig, ax = plt.subplots(figsize=(6, 4))\n",
    "\n",
    "ax.hist(data_imputed_mean.flatten(), bins=45, edgecolor='black', color = colors[16])\n",
    "ax.set_title(\"Mean Imputation\", size = 20, weight=\"bold\", pad = 10)\n",
    "ax.set_xlabel(\"Value\", size = 15, weight=\"bold\")\n",
    "ax.set_ylabel(\"Frequency\", size = 15, weight=\"bold\")\n",
    "\n",
    "plt.show();"
   ]
  },
  {
   "cell_type": "code",
   "execution_count": null,
   "id": "55f89ced",
   "metadata": {},
   "outputs": [],
   "source": [
    "fig, ax = plt.subplots(figsize=(6, 4))\n",
    "\n",
    "ax.hist(data_imputed_zero.flatten(), bins=45, edgecolor='black', color = colors[16])\n",
    "ax.set_title(\"Zero Imputation\", size = 20, weight=\"bold\", pad = 10)\n",
    "ax.set_xlabel(\"Value\", size = 15, weight=\"bold\")\n",
    "ax.set_ylabel(\"Frequency\", size = 15, weight=\"bold\")\n",
    "\n",
    "plt.show();"
   ]
  },
  {
   "cell_type": "code",
   "execution_count": null,
   "id": "87e170e3",
   "metadata": {},
   "outputs": [],
   "source": [
    "# Step 5: Impute missing values using KNN imputer and plot the distribution\n",
    "knn_imputer = KNNImputer(n_neighbors=5)\n",
    "data_imputed_knn = knn_imputer.fit_transform(data)"
   ]
  },
  {
   "cell_type": "code",
   "execution_count": null,
   "id": "d85b2908",
   "metadata": {},
   "outputs": [],
   "source": [
    "fig, ax = plt.subplots(figsize=(6, 4))\n",
    "\n",
    "ax.hist(data_imputed_knn.flatten(), bins=50, edgecolor='black',  color = colors[18])\n",
    "ax.set_title(\"kNN Imputation\", size = 20, weight=\"bold\", pad = 10)\n",
    "ax.set_xlabel(\"Value\", size = 15, weight=\"bold\")\n",
    "ax.set_ylabel(\"Frequency\", size = 15, weight=\"bold\")\n",
    "\n",
    "plt.show()\n"
   ]
  },
  {
   "cell_type": "markdown",
   "id": "0fb800ad",
   "metadata": {},
   "source": [
    "## MissForest imputation"
   ]
  },
  {
   "cell_type": "code",
   "execution_count": null,
   "id": "4aad567d",
   "metadata": {},
   "outputs": [],
   "source": [
    "!pip install missingpy"
   ]
  },
  {
   "cell_type": "code",
   "execution_count": null,
   "id": "80ca6314",
   "metadata": {},
   "outputs": [],
   "source": [
    "import sklearn.neighbors._base\n",
    "import sys\n",
    "\n",
    "sys.modules['sklearn.neighbors.base'] = sklearn.neighbors._base"
   ]
  },
  {
   "cell_type": "code",
   "execution_count": null,
   "id": "a728739b",
   "metadata": {},
   "outputs": [],
   "source": [
    "from missingpy import MissForest\n",
    "imputer = MissForest()\n",
    "data_imputed_missforest = imputer.fit_transform(data)"
   ]
  },
  {
   "cell_type": "code",
   "execution_count": null,
   "id": "44803187",
   "metadata": {},
   "outputs": [],
   "source": [
    "fig, ax = plt.subplots(figsize=(6, 4))\n",
    "\n",
    "ax.hist(data_imputed_missforest.flatten(), bins=50, edgecolor='black',  color = colors[18])\n",
    "ax.set_title(\"MissForest Imputation\", size = 20, weight=\"bold\", pad = 10)\n",
    "ax.set_xlabel(\"Value\", size = 15, weight=\"bold\")\n",
    "ax.set_ylabel(\"Frequency\", size = 15, weight=\"bold\")\n",
    "\n",
    "plt.show()\n"
   ]
  }
 ],
 "metadata": {
  "kernelspec": {
   "display_name": "Python 3 (ipykernel)",
   "language": "python",
   "name": "python3"
  },
  "language_info": {
   "codemirror_mode": {
    "name": "ipython",
    "version": 3
   },
   "file_extension": ".py",
   "mimetype": "text/x-python",
   "name": "python",
   "nbconvert_exporter": "python",
   "pygments_lexer": "ipython3",
   "version": "3.9.13"
  },
  "toc": {
   "base_numbering": 1,
   "nav_menu": {},
   "number_sections": true,
   "sideBar": true,
   "skip_h1_title": false,
   "title_cell": "Table of Contents",
   "title_sidebar": "Contents",
   "toc_cell": false,
   "toc_position": {},
   "toc_section_display": true,
   "toc_window_display": false
  }
 },
 "nbformat": 4,
 "nbformat_minor": 5
}
