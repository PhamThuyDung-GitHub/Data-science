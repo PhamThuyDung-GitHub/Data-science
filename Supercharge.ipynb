{
 "cells": [
  {
   "cell_type": "code",
   "execution_count": 1,
   "metadata": {},
   "outputs": [],
   "source": [
    "import polars as pl \n",
    "\n",
    "import pandas as pd \n",
    "import seaborn as sns \n",
    "\n",
    "from summarytools import dfSummary \n",
    "from skimpy import skim "
   ]
  },
  {
   "cell_type": "code",
   "execution_count": 2,
   "metadata": {},
   "outputs": [],
   "source": [
    "df_pd = sns.load_dataset('iris')\n",
    "df_pl = pl.from_pandas(df_pd)"
   ]
  },
  {
   "cell_type": "code",
   "execution_count": 3,
   "metadata": {},
   "outputs": [
    {
     "data": {
      "text/html": [
       "<style type=\"text/css\">\n",
       "#T_58e03 thead>tr>th {\n",
       "  text-align: left;\n",
       "}\n",
       "#T_58e03_row0_col0, #T_58e03_row1_col0, #T_58e03_row2_col0, #T_58e03_row3_col0, #T_58e03_row4_col0 {\n",
       "  text-align: left;\n",
       "  font-size: 12px;\n",
       "  vertical-align: middle;\n",
       "  width: 5%;\n",
       "  max-width: 50px;\n",
       "  min-width: 20px;\n",
       "}\n",
       "#T_58e03_row0_col1, #T_58e03_row1_col1, #T_58e03_row2_col1, #T_58e03_row3_col1, #T_58e03_row4_col1 {\n",
       "  text-align: left;\n",
       "  font-size: 12px;\n",
       "  vertical-align: middle;\n",
       "  width: 15%;\n",
       "  max-width: 200px;\n",
       "  min-width: 100px;\n",
       "  word-break: break-word;\n",
       "}\n",
       "#T_58e03_row0_col2, #T_58e03_row1_col2, #T_58e03_row2_col2, #T_58e03_row3_col2, #T_58e03_row4_col2 {\n",
       "  text-align: left;\n",
       "  font-size: 12px;\n",
       "  vertical-align: middle;\n",
       "  width: 30%;\n",
       "  min-width: 100px;\n",
       "}\n",
       "#T_58e03_row0_col3, #T_58e03_row1_col3, #T_58e03_row2_col3, #T_58e03_row3_col3, #T_58e03_row4_col3 {\n",
       "  text-align: left;\n",
       "  font-size: 12px;\n",
       "  vertical-align: middle;\n",
       "  width: 25%;\n",
       "  min-width: 100px;\n",
       "}\n",
       "#T_58e03_row0_col4, #T_58e03_row1_col4, #T_58e03_row2_col4, #T_58e03_row3_col4, #T_58e03_row4_col4 {\n",
       "  text-align: left;\n",
       "  font-size: 12px;\n",
       "  vertical-align: middle;\n",
       "  width: 20%;\n",
       "  min-width: 150px;\n",
       "}\n",
       "#T_58e03_row0_col5, #T_58e03_row1_col5, #T_58e03_row2_col5, #T_58e03_row3_col5, #T_58e03_row4_col5 {\n",
       "  text-align: left;\n",
       "  font-size: 12px;\n",
       "  vertical-align: middle;\n",
       "  width: 10%;\n",
       "}\n",
       "</style>\n",
       "<table id=\"T_58e03\">\n",
       "  <caption><strong>Data Frame Summary</strong><br>df_pd<br>Dimensions: 150 x 5<br>Duplicates: 1</caption>\n",
       "  <thead>\n",
       "    <tr>\n",
       "      <th id=\"T_58e03_level0_col0\" class=\"col_heading level0 col0\" >No</th>\n",
       "      <th id=\"T_58e03_level0_col1\" class=\"col_heading level0 col1\" >Variable</th>\n",
       "      <th id=\"T_58e03_level0_col2\" class=\"col_heading level0 col2\" >Stats / Values</th>\n",
       "      <th id=\"T_58e03_level0_col3\" class=\"col_heading level0 col3\" >Freqs / (% of Valid)</th>\n",
       "      <th id=\"T_58e03_level0_col4\" class=\"col_heading level0 col4\" >Graph</th>\n",
       "      <th id=\"T_58e03_level0_col5\" class=\"col_heading level0 col5\" >Missing</th>\n",
       "    </tr>\n",
       "  </thead>\n",
       "  <tbody>\n",
       "    <tr>\n",
       "      <td id=\"T_58e03_row0_col0\" class=\"data row0 col0\" >1</td>\n",
       "      <td id=\"T_58e03_row0_col1\" class=\"data row0 col1\" ><strong>sepal_length</strong><br>[float64]</td>\n",
       "      <td id=\"T_58e03_row0_col2\" class=\"data row0 col2\" >Mean (sd) : 5.8 (0.8)<br>min < med < max:<br>4.3 < 5.8 < 7.9<br>IQR (CV) : 1.3 (7.1)</td>\n",
       "      <td id=\"T_58e03_row0_col3\" class=\"data row0 col3\" >35 distinct values</td>\n",
       "      <td id=\"T_58e03_row0_col4\" class=\"data row0 col4\" ><img src = \"data:image/png;base64, iVBORw0KGgoAAAANSUhEUgAAAKoAAABGCAYAAABc8A97AAAAOnRFWHRTb2Z0d2FyZQBNYXRwbG90bGliIHZlcnNpb24zLjEwLjAsIGh0dHBzOi8vbWF0cGxvdGxpYi5vcmcvlHJYcgAAAAlwSFlzAAAPYQAAD2EBqD+naQAAArRJREFUeJzt3U2K4kAYgOGvxlaiQoIIuvMCA7Nw6SHmsHOEWXgCb+BOkBAx08GYZFYNPY3tT1Uy1lf9Pvv8LF7kS1JdbZqmEcB33559A8A9Xp59A10xxgxFZOBwilPTNK9t3Q/cBBmqMWY4nU5/xnE8sT3H4XBIjTG/iNUPQYYqIoM4jier1eo1SZLi0YOzLIvW6/Vkv98PRIRQPRBqqCIikiRJMZvN/lgePrS9ruPYwchxQdChPoPr2MHIcRmhts967GDk+ByhdsRh7LAeOULGe1SoQKhQgVChQqczKl+H0JbOQuXrENrU5S8qX4fQms5fTz3r6xDCwsMUVCBUqECoUIFQoQKhQgVChQqEChUIFSoQKlRg4bRnqqrqi0hsjLE9RZALeQjVI3me98uy/LFYLHq9Xu/h9REi4S7kIVSPnE6nlyiKRsvlspjP5+mjx4e8kIdQPTQej1nI8wGhfsJhVozruu53cEtfGqFe4DIrlmUZVVX1vSiK3yJi+6uIDwj1ApdZcbvdTjabzeh8Pve6ur+viFCvsJkV0zQNckZ8Nl74QwWvf1F5oMEbb0PlgQbveRsqDzR4z9tQ3/BAAxEepqAEoUIFQoUKhAoVCBUqECpUIFSoQKhQgVChws0vUw7bm7MwBK25GqrL9uYsDEGbbv2iWm9vzsIQtOmuRSk225uzMARt4mEKKhAqVCBUqOD9wmk8xnGTNacN1hz/U+PVaxNqQFw3WXPZYM31PzXeujahBsTl78xa2GDN+lXmPdcm1ADZbrJWVVUs9mNDXNd1P0mS1HKDt6uvMwkVIuI+NnT9JZJQISLue7N2/SWSUPEP27Gh6y+RvEeFCoQKFQgVKhAqVCBUqECoUIFQoQKhQoW7XvhnWRY9euLj8RiJiOR5Hu12u9H/PF7rtbXet+vx9/T1F2ecvMUVF0/ZAAAAAElFTkSuQmCC\"></img></td>\n",
       "      <td id=\"T_58e03_row0_col5\" class=\"data row0 col5\" >0<br>(0.0%)</td>\n",
       "    </tr>\n",
       "    <tr>\n",
       "      <td id=\"T_58e03_row1_col0\" class=\"data row1 col0\" >2</td>\n",
       "      <td id=\"T_58e03_row1_col1\" class=\"data row1 col1\" ><strong>sepal_width</strong><br>[float64]</td>\n",
       "      <td id=\"T_58e03_row1_col2\" class=\"data row1 col2\" >Mean (sd) : 3.1 (0.4)<br>min < med < max:<br>2.0 < 3.0 < 4.4<br>IQR (CV) : 0.5 (7.0)</td>\n",
       "      <td id=\"T_58e03_row1_col3\" class=\"data row1 col3\" >23 distinct values</td>\n",
       "      <td id=\"T_58e03_row1_col4\" class=\"data row1 col4\" ><img src = \"data:image/png;base64, iVBORw0KGgoAAAANSUhEUgAAAKoAAABGCAYAAABc8A97AAAAOnRFWHRTb2Z0d2FyZQBNYXRwbG90bGliIHZlcnNpb24zLjEwLjAsIGh0dHBzOi8vbWF0cGxvdGxpYi5vcmcvlHJYcgAAAAlwSFlzAAAPYQAAD2EBqD+naQAAAsVJREFUeJzt3b2O2kAUQOE7sID5kS2EAh1NykgpKHmIPGweYQueYIttUtEhIQTCWYSxSRGliMIC9oyzc4fz9SNcHGHZM54x5/NZAN81PvoCgHs8ffQF+MoY0xWRdsXhx/P5/Obyeh4doV5gjOmORqNvcRwPq4zf7XYbY8x3YnWHUC9rx3E8nM/nb0mSHMoM3G630WKxGK7X67aIEKojhHpFkiSH8Xj8s8LQrvOLeXA8TEEFQoUKhAoVCBUqECpUIFSoQKhQgfeoNcjzvCUisTGmynCmXy8gVMfSNG1lWfZ1Op02m81mqVktEaZf30Oojh2Px6coinqz2ewwmUw2ZcYy/fo+Qq1Jv99n+tUhHqagAqFCBUKFCoQKFQgVKhAqVCBUqECoUIFQoUKwM1OW3+XHRVG0XF4P7AQZqu13+VmWRXmefzkcDs8iUmUaFI4FGapYfJcvIrJcLocvLy+90+nUrOPiUJ7XoVrcvuOiKFpJkmyqLAzZbDYsDPGMt6Ha3L65dYfH21DF4vbNrTs8PocqItW21eHWHR7eo0IFQoUKhAoVCBUqECpUIFSoQKhQgVChAqFCBUKFCoQKFQgVKhAqVCBUqECoUIFQoYL3C6dRTqjHtxNqQEI+vp1QPWN5oko8GAzG8/l8F9rx7YTqEdsTVf58fdvpdJ5DOz+AUD1ic6KKSNhf3xKqh6qeqBLy17e8noIKtf6jsqMeXKktVHbUg0t1/qOyox6cqf1hqsqWPCJhPxigPB6moAKhQoWbt37bzXQrjAP+cTVUNtOFL279o7KZLrxw11M/m+k+BsuVWyK/n3mKimOvroVlrh8iYr9yK8/zVpqmnweDwY9Go5GVHX9rLSyhQkScrdz6NJvNXsuOv2ctLKHiL7Yrt6qOlxtrYe8KdbvdRmV/db/fRyIiaZpGq9Wq9z/Ha/1trddtO/6evn4BZ+qYAd1HSlAAAAAASUVORK5CYII=\"></img></td>\n",
       "      <td id=\"T_58e03_row1_col5\" class=\"data row1 col5\" >0<br>(0.0%)</td>\n",
       "    </tr>\n",
       "    <tr>\n",
       "      <td id=\"T_58e03_row2_col0\" class=\"data row2 col0\" >3</td>\n",
       "      <td id=\"T_58e03_row2_col1\" class=\"data row2 col1\" ><strong>petal_length</strong><br>[float64]</td>\n",
       "      <td id=\"T_58e03_row2_col2\" class=\"data row2 col2\" >Mean (sd) : 3.8 (1.8)<br>min < med < max:<br>1.0 < 4.3 < 6.9<br>IQR (CV) : 3.5 (2.1)</td>\n",
       "      <td id=\"T_58e03_row2_col3\" class=\"data row2 col3\" >43 distinct values</td>\n",
       "      <td id=\"T_58e03_row2_col4\" class=\"data row2 col4\" ><img src = \"data:image/png;base64, iVBORw0KGgoAAAANSUhEUgAAAKoAAABGCAYAAABc8A97AAAAOnRFWHRTb2Z0d2FyZQBNYXRwbG90bGliIHZlcnNpb24zLjEwLjAsIGh0dHBzOi8vbWF0cGxvdGxpYi5vcmcvlHJYcgAAAAlwSFlzAAAPYQAAD2EBqD+naQAAAqdJREFUeJzt3U2K4kAYxvGnxg+iQkQE3XmBgVm49BBz2DnCLDyBN3AniETMtKjR2Q0M09NqVWLXW/x/664Y6Ick75uqirvdbgJi9+WzTwB4RPveHzjnepK6nsc/3W63N8+xwB8fBtU51xuPx9/zPB/5HHy/3++ccz8IK0Ldu6J28zwfLRaLt+FweHzmwEVRZMvlcrTdbruSCCqC3L31S9JwODxOJpNfHsfveYwB/kExBRMIKkwgqDCBoMIEggoTCCpMIKgwgaDCBIIKEwgqTCCoMOGhd/14ncBplVKiUysJakRCp1VK6U6tJKhx8Z5WKaU9tZKgRihgWqWU6NRKiimYwBW1AQEFUX69Xjt1n08KCGrNQgqi8/mcVVX19Xg8/pTke+tPEkGtn3dBtF6vR6vVqn+5XFpNnZxVBLUhPgXRbrdLshCqA8UUTCCoMIGgwgSCChMIKkwgqDCBoMIEggoTCCpMIKgwgaDCBN71J6aqqo6k3DnnMzza9VYENSFlWXbO5/O32WzWarVaTy9liXm9FUFNyOl0amdZ1p/P58fpdLp7Zmzs660IaoIGg0FyW9lTTMEEggoTCCpMIKgwgaDChEar/sDmsxRxAxqv1VhQQ5vPUtwNaLxWY0ENaT5L8Teg8VqNN/wDms9SxA3oFMX8qMabKUiK/1GNoEJS/I9qBBV/ifVRjT4qTCCoMIFb/3+wGW9cCOo72Iw3PgT1fWzGGxmC+gE2440HxRRM4IqK2jS5VJugohZNL9UmqKhF00u1CSpq1dRS7WSDGvg5cZr2kUkyqKGfE6dpH58kg6rAz4nTtI9PqkGV5P85cZr28aHhDxMeuqIWRZE9e+DD4ZBJUlmW2Waz6T87viiKrKqqtvwayPn1em37nLcUdu6fNdbybz/yf/oNy3KMDhJgavYAAAAASUVORK5CYII=\"></img></td>\n",
       "      <td id=\"T_58e03_row2_col5\" class=\"data row2 col5\" >0<br>(0.0%)</td>\n",
       "    </tr>\n",
       "    <tr>\n",
       "      <td id=\"T_58e03_row3_col0\" class=\"data row3 col0\" >4</td>\n",
       "      <td id=\"T_58e03_row3_col1\" class=\"data row3 col1\" ><strong>petal_width</strong><br>[float64]</td>\n",
       "      <td id=\"T_58e03_row3_col2\" class=\"data row3 col2\" >Mean (sd) : 1.2 (0.8)<br>min < med < max:<br>0.1 < 1.3 < 2.5<br>IQR (CV) : 1.5 (1.6)</td>\n",
       "      <td id=\"T_58e03_row3_col3\" class=\"data row3 col3\" >22 distinct values</td>\n",
       "      <td id=\"T_58e03_row3_col4\" class=\"data row3 col4\" ><img src = \"data:image/png;base64, iVBORw0KGgoAAAANSUhEUgAAAKoAAABGCAYAAABc8A97AAAAOnRFWHRTb2Z0d2FyZQBNYXRwbG90bGliIHZlcnNpb24zLjEwLjAsIGh0dHBzOi8vbWF0cGxvdGxpYi5vcmcvlHJYcgAAAAlwSFlzAAAPYQAAD2EBqD+naQAAAr1JREFUeJzt27uO2kAUgOEzYQFzkQEhQUdLESkFJQ+Rh80jbMET0FLRIS4ywlmHa5qEJsqCPR7ZZ/i/ese4+D3LeAZzu90EKLsvRd8A8Iy3R39gjGmISC3j9Y+32+0j41jg7tNQjTGNfr//PQzDXpaL7/f7nTHmB7HC1qMZtRaGYW86nX50Op0kzYWjKApms1lvs9nURIRQYeXhv34RkU6nkwwGg58Zrt/IMAb4B4spqECoUIFQoQKhQgVChQqEChUIFSoQKlQgVKjw1M4U0uEgT/4INWcc5HGDUPPHQR4HCNURDvLki8UUVCBUqECoUIFQoQKhQgVChQqEChUIFSoQKlQgVKhAqFCBUKECoUIFTk95xtdD24TqEZ8PbROqX7w9tE2oHvLx0DaLKahAqFCBUKECoUIFQoUKhAoVCBUqECpUIFSoQKhQgS1U5MblyS1CRS5cn9wiVOTF6cktQkWuXJ3cYjEFFQgVKhAqVCBUqMBiCneXy6UqIqExJsvw8Hq9VnO+pTtChYiIxHFcPZ1O30ajUaVSqaR6vSQicjqdgsvl8jVJkncRybLq/5TTUC2fUJECf2duscvidGZx5Xg8vgVB0JxMJslwONylHb9cLnvz+bx5Pp8rLu7PWai2T6hIcb8zt9llcT2zuNZqtTK9B93tdk5/weosVNsn1PZ35pb7zmG73R5Mp9N92l0W1zPLq3L+HTXrE/pHpqfUdt/576xYr9ff09677cxS5gVNkXxdTGXedxYpblYs+4KmSL6GKiLZ951df9/6n7IvaIrkdahalXVBUyR2pqACoUIFQoUKhAoVSr2Ysnin6O37xFdV2lBt3in6/D7xVT0VahRFQdoLHw6HQEQkjuNgtVo1047fbrftIAia4/HYdLvdX2nGrtfrYLFYNKMoaq1Wq2Paz7a596LGav7sZ/r6DRgklygDhZyjAAAAAElFTkSuQmCC\"></img></td>\n",
       "      <td id=\"T_58e03_row3_col5\" class=\"data row3 col5\" >0<br>(0.0%)</td>\n",
       "    </tr>\n",
       "    <tr>\n",
       "      <td id=\"T_58e03_row4_col0\" class=\"data row4 col0\" >5</td>\n",
       "      <td id=\"T_58e03_row4_col1\" class=\"data row4 col1\" ><strong>species</strong><br>[object]</td>\n",
       "      <td id=\"T_58e03_row4_col2\" class=\"data row4 col2\" >1. setosa<br>2. versicolor<br>3. virginica</td>\n",
       "      <td id=\"T_58e03_row4_col3\" class=\"data row4 col3\" >50 (33.3%)<br>50 (33.3%)<br>50 (33.3%)</td>\n",
       "      <td id=\"T_58e03_row4_col4\" class=\"data row4 col4\" ><img src = \"data:image/png;base64, iVBORw0KGgoAAAANSUhEUgAAAJsAAABFCAYAAABdVZTTAAAAOnRFWHRTb2Z0d2FyZQBNYXRwbG90bGliIHZlcnNpb24zLjEwLjAsIGh0dHBzOi8vbWF0cGxvdGxpYi5vcmcvlHJYcgAAAAlwSFlzAAAPYQAAD2EBqD+naQAAAWVJREFUeJzt20FqwmAUhdGXEkqdJATBxbiILraLyG5E/Adt6SQddGhnlfuLPWcFT/hQIrnDtm0FCU+9D+D/GKpqV1XPvQ+5oa9t2z56H8G1cb/fv07TtPQ+5FZaa+dhGN4Ed3/GaZqW4/H4Mc/zZ+9j/upyubys67qcTqfnqhLbnRmrquZ5/jwcDu+9j7mRXe8D+J0HBGLERozYiBEbMWIjRmzEiI0YsREjNmLERozYiBEbMWIjRmzEjFU/74H1PuQWHuVzPKqxtXZe13WpB3kPrLV2rqqv3ndwzQaBmMGUjxTfbMRYVxFjXUWMdRUx/tQlRmzEiI0YsREjNmLERozYiBEbMWIjRmzEiI0YsREjNmLERox1FTHWVcTYIBBjXUWMBwRi/IwSY8pHjCkfMaZ8xHhAIEZsxIiNGLERIzZixEaM2IgRGzFiI0ZsxIiNGLERIzZixEaMKR8xpnzE2CAQY8pHzDe+8aNK3kgWfAAAAABJRU5ErkJggg==\"></img></td>\n",
       "      <td id=\"T_58e03_row4_col5\" class=\"data row4 col5\" >0<br>(0.0%)</td>\n",
       "    </tr>\n",
       "  </tbody>\n",
       "</table>\n"
      ],
      "text/plain": [
       "<pandas.io.formats.style.Styler at 0x2307f31ffe0>"
      ]
     },
     "execution_count": 3,
     "metadata": {},
     "output_type": "execute_result"
    }
   ],
   "source": [
    "dfSummary(df_pd)"
   ]
  },
  {
   "cell_type": "code",
   "execution_count": 4,
   "metadata": {},
   "outputs": [
    {
     "data": {
      "text/html": [
       "<pre style=\"white-space:pre;overflow-x:auto;line-height:normal;font-family:Menlo,'DejaVu Sans Mono',consolas,'Courier New',monospace\">╭──────────────────────────────────────────────── skimpy summary ─────────────────────────────────────────────────╮\n",
       "│ <span style=\"font-style: italic\">         Data Summary         </span> <span style=\"font-style: italic\">      Data Types       </span>                                                          │\n",
       "│ ┏━━━━━━━━━━━━━━━━━━━┳━━━━━━━━┓ ┏━━━━━━━━━━━━━┳━━━━━━━┓                                                          │\n",
       "│ ┃<span style=\"color: #008080; text-decoration-color: #008080; font-weight: bold\"> Dataframe         </span>┃<span style=\"color: #008080; text-decoration-color: #008080; font-weight: bold\"> Values </span>┃ ┃<span style=\"color: #008080; text-decoration-color: #008080; font-weight: bold\"> Column Type </span>┃<span style=\"color: #008080; text-decoration-color: #008080; font-weight: bold\"> Count </span>┃                                                          │\n",
       "│ ┡━━━━━━━━━━━━━━━━━━━╇━━━━━━━━┩ ┡━━━━━━━━━━━━━╇━━━━━━━┩                                                          │\n",
       "│ │ Number of rows    │ 150    │ │ float64     │ 4     │                                                          │\n",
       "│ │ Number of columns │ 5      │ │ string      │ 1     │                                                          │\n",
       "│ └───────────────────┴────────┘ └─────────────┴───────┘                                                          │\n",
       "│ <span style=\"font-style: italic\">                                                    number                                                    </span>  │\n",
       "│ ┏━━━━━━━━━━━━━━━━━━━┳━━━━━━┳━━━━━━━━┳━━━━━━━━━━┳━━━━━━━━━━━┳━━━━━━━┳━━━━━━━┳━━━━━━━━┳━━━━━━┳━━━━━━━┳━━━━━━━━━┓  │\n",
       "│ ┃<span style=\"font-weight: bold\"> column            </span>┃<span style=\"font-weight: bold\"> NA   </span>┃<span style=\"font-weight: bold\"> NA %   </span>┃<span style=\"font-weight: bold\"> mean     </span>┃<span style=\"font-weight: bold\"> sd        </span>┃<span style=\"font-weight: bold\"> p0    </span>┃<span style=\"font-weight: bold\"> p25   </span>┃<span style=\"font-weight: bold\"> p50    </span>┃<span style=\"font-weight: bold\"> p75  </span>┃<span style=\"font-weight: bold\"> p100  </span>┃<span style=\"font-weight: bold\"> hist    </span>┃  │\n",
       "│ ┡━━━━━━━━━━━━━━━━━━━╇━━━━━━╇━━━━━━━━╇━━━━━━━━━━╇━━━━━━━━━━━╇━━━━━━━╇━━━━━━━╇━━━━━━━━╇━━━━━━╇━━━━━━━╇━━━━━━━━━┩  │\n",
       "│ │ <span style=\"color: #af87ff; text-decoration-color: #af87ff\">sepal_length     </span> │ <span style=\"color: #008080; text-decoration-color: #008080\">   0</span> │ <span style=\"color: #008080; text-decoration-color: #008080\">     0</span> │ <span style=\"color: #008080; text-decoration-color: #008080\">   5.843</span> │ <span style=\"color: #008080; text-decoration-color: #008080\">   0.8281</span> │ <span style=\"color: #008080; text-decoration-color: #008080\">  4.3</span> │ <span style=\"color: #008080; text-decoration-color: #008080\">  5.1</span> │ <span style=\"color: #008080; text-decoration-color: #008080\">   5.8</span> │ <span style=\"color: #008080; text-decoration-color: #008080\"> 6.4</span> │ <span style=\"color: #008080; text-decoration-color: #008080\">  7.9</span> │ <span style=\"color: #008000; text-decoration-color: #008000\">▃▇▇▇▅▂ </span> │  │\n",
       "│ │ <span style=\"color: #af87ff; text-decoration-color: #af87ff\">sepal_width      </span> │ <span style=\"color: #008080; text-decoration-color: #008080\">   0</span> │ <span style=\"color: #008080; text-decoration-color: #008080\">     0</span> │ <span style=\"color: #008080; text-decoration-color: #008080\">   3.057</span> │ <span style=\"color: #008080; text-decoration-color: #008080\">   0.4359</span> │ <span style=\"color: #008080; text-decoration-color: #008080\">    2</span> │ <span style=\"color: #008080; text-decoration-color: #008080\">  2.8</span> │ <span style=\"color: #008080; text-decoration-color: #008080\">     3</span> │ <span style=\"color: #008080; text-decoration-color: #008080\"> 3.3</span> │ <span style=\"color: #008080; text-decoration-color: #008080\">  4.4</span> │ <span style=\"color: #008000; text-decoration-color: #008000\">▁▇▇▇▂▁ </span> │  │\n",
       "│ │ <span style=\"color: #af87ff; text-decoration-color: #af87ff\">petal_length     </span> │ <span style=\"color: #008080; text-decoration-color: #008080\">   0</span> │ <span style=\"color: #008080; text-decoration-color: #008080\">     0</span> │ <span style=\"color: #008080; text-decoration-color: #008080\">   3.758</span> │ <span style=\"color: #008080; text-decoration-color: #008080\">    1.765</span> │ <span style=\"color: #008080; text-decoration-color: #008080\">    1</span> │ <span style=\"color: #008080; text-decoration-color: #008080\">  1.6</span> │ <span style=\"color: #008080; text-decoration-color: #008080\">  4.35</span> │ <span style=\"color: #008080; text-decoration-color: #008080\"> 5.1</span> │ <span style=\"color: #008080; text-decoration-color: #008080\">  6.9</span> │ <span style=\"color: #008000; text-decoration-color: #008000\">▇ ▂▇▆▂ </span> │  │\n",
       "│ │ <span style=\"color: #af87ff; text-decoration-color: #af87ff\">petal_width      </span> │ <span style=\"color: #008080; text-decoration-color: #008080\">   0</span> │ <span style=\"color: #008080; text-decoration-color: #008080\">     0</span> │ <span style=\"color: #008080; text-decoration-color: #008080\">   1.199</span> │ <span style=\"color: #008080; text-decoration-color: #008080\">   0.7622</span> │ <span style=\"color: #008080; text-decoration-color: #008080\">  0.1</span> │ <span style=\"color: #008080; text-decoration-color: #008080\">  0.3</span> │ <span style=\"color: #008080; text-decoration-color: #008080\">   1.3</span> │ <span style=\"color: #008080; text-decoration-color: #008080\"> 1.8</span> │ <span style=\"color: #008080; text-decoration-color: #008080\">  2.5</span> │ <span style=\"color: #008000; text-decoration-color: #008000\">▇ ▂▆▅▃ </span> │  │\n",
       "│ └───────────────────┴──────┴────────┴──────────┴───────────┴───────┴───────┴────────┴──────┴───────┴─────────┘  │\n",
       "│ <span style=\"font-style: italic\">                                                    string                                                    </span>  │\n",
       "│ ┏━━━━━━━━━┳━━━━┳━━━━━━┳━━━━━━━━━━┳━━━━━━━━━━━━┳━━━━━━━━┳━━━━━━━━━━━┳━━━━━━━━━━━━━┳━━━━━━━━━━━━━┳━━━━━━━━━━━━━┓  │\n",
       "│ ┃<span style=\"font-weight: bold\">         </span>┃<span style=\"font-weight: bold\">    </span>┃<span style=\"font-weight: bold\">      </span>┃<span style=\"font-weight: bold\">          </span>┃<span style=\"font-weight: bold\">            </span>┃<span style=\"font-weight: bold\">        </span>┃<span style=\"font-weight: bold\">           </span>┃<span style=\"font-weight: bold\"> chars per   </span>┃<span style=\"font-weight: bold\"> words per   </span>┃<span style=\"font-weight: bold\">             </span>┃  │\n",
       "│ ┃<span style=\"font-weight: bold\"> column  </span>┃<span style=\"font-weight: bold\"> NA </span>┃<span style=\"font-weight: bold\"> NA % </span>┃<span style=\"font-weight: bold\"> shortest </span>┃<span style=\"font-weight: bold\"> longest    </span>┃<span style=\"font-weight: bold\"> min    </span>┃<span style=\"font-weight: bold\"> max       </span>┃<span style=\"font-weight: bold\"> row         </span>┃<span style=\"font-weight: bold\"> row         </span>┃<span style=\"font-weight: bold\"> total words </span>┃  │\n",
       "│ ┡━━━━━━━━━╇━━━━╇━━━━━━╇━━━━━━━━━━╇━━━━━━━━━━━━╇━━━━━━━━╇━━━━━━━━━━━╇━━━━━━━━━━━━━╇━━━━━━━━━━━━━╇━━━━━━━━━━━━━┩  │\n",
       "│ │ <span style=\"color: #af87ff; text-decoration-color: #af87ff\">species</span> │ <span style=\"color: #008080; text-decoration-color: #008080\"> 0</span> │ <span style=\"color: #008080; text-decoration-color: #008080\">   0</span> │ <span style=\"color: #af87ff; text-decoration-color: #af87ff\">setosa  </span> │ <span style=\"color: #af87ff; text-decoration-color: #af87ff\">versicolor</span> │ <span style=\"color: #af87ff; text-decoration-color: #af87ff\">setosa</span> │ <span style=\"color: #af87ff; text-decoration-color: #af87ff\">virginica</span> │ <span style=\"color: #008080; text-decoration-color: #008080\">       8.33</span> │ <span style=\"color: #008080; text-decoration-color: #008080\">          1</span> │ <span style=\"color: #008080; text-decoration-color: #008080\">        150</span> │  │\n",
       "│ └─────────┴────┴──────┴──────────┴────────────┴────────┴───────────┴─────────────┴─────────────┴─────────────┘  │\n",
       "╰────────────────────────────────────────────────────── End ──────────────────────────────────────────────────────╯\n",
       "</pre>\n"
      ],
      "text/plain": [
       "╭──────────────────────────────────────────────── skimpy summary ─────────────────────────────────────────────────╮\n",
       "│ \u001b[3m         Data Summary         \u001b[0m \u001b[3m      Data Types       \u001b[0m                                                          │\n",
       "│ ┏━━━━━━━━━━━━━━━━━━━┳━━━━━━━━┓ ┏━━━━━━━━━━━━━┳━━━━━━━┓                                                          │\n",
       "│ ┃\u001b[1;36m \u001b[0m\u001b[1;36mDataframe        \u001b[0m\u001b[1;36m \u001b[0m┃\u001b[1;36m \u001b[0m\u001b[1;36mValues\u001b[0m\u001b[1;36m \u001b[0m┃ ┃\u001b[1;36m \u001b[0m\u001b[1;36mColumn Type\u001b[0m\u001b[1;36m \u001b[0m┃\u001b[1;36m \u001b[0m\u001b[1;36mCount\u001b[0m\u001b[1;36m \u001b[0m┃                                                          │\n",
       "│ ┡━━━━━━━━━━━━━━━━━━━╇━━━━━━━━┩ ┡━━━━━━━━━━━━━╇━━━━━━━┩                                                          │\n",
       "│ │ Number of rows    │ 150    │ │ float64     │ 4     │                                                          │\n",
       "│ │ Number of columns │ 5      │ │ string      │ 1     │                                                          │\n",
       "│ └───────────────────┴────────┘ └─────────────┴───────┘                                                          │\n",
       "│ \u001b[3m                                                    number                                                    \u001b[0m  │\n",
       "│ ┏━━━━━━━━━━━━━━━━━━━┳━━━━━━┳━━━━━━━━┳━━━━━━━━━━┳━━━━━━━━━━━┳━━━━━━━┳━━━━━━━┳━━━━━━━━┳━━━━━━┳━━━━━━━┳━━━━━━━━━┓  │\n",
       "│ ┃\u001b[1m \u001b[0m\u001b[1mcolumn           \u001b[0m\u001b[1m \u001b[0m┃\u001b[1m \u001b[0m\u001b[1mNA  \u001b[0m\u001b[1m \u001b[0m┃\u001b[1m \u001b[0m\u001b[1mNA %  \u001b[0m\u001b[1m \u001b[0m┃\u001b[1m \u001b[0m\u001b[1mmean    \u001b[0m\u001b[1m \u001b[0m┃\u001b[1m \u001b[0m\u001b[1msd       \u001b[0m\u001b[1m \u001b[0m┃\u001b[1m \u001b[0m\u001b[1mp0   \u001b[0m\u001b[1m \u001b[0m┃\u001b[1m \u001b[0m\u001b[1mp25  \u001b[0m\u001b[1m \u001b[0m┃\u001b[1m \u001b[0m\u001b[1mp50   \u001b[0m\u001b[1m \u001b[0m┃\u001b[1m \u001b[0m\u001b[1mp75 \u001b[0m\u001b[1m \u001b[0m┃\u001b[1m \u001b[0m\u001b[1mp100 \u001b[0m\u001b[1m \u001b[0m┃\u001b[1m \u001b[0m\u001b[1mhist   \u001b[0m\u001b[1m \u001b[0m┃  │\n",
       "│ ┡━━━━━━━━━━━━━━━━━━━╇━━━━━━╇━━━━━━━━╇━━━━━━━━━━╇━━━━━━━━━━━╇━━━━━━━╇━━━━━━━╇━━━━━━━━╇━━━━━━╇━━━━━━━╇━━━━━━━━━┩  │\n",
       "│ │ \u001b[38;5;141msepal_length     \u001b[0m │ \u001b[36m   0\u001b[0m │ \u001b[36m     0\u001b[0m │ \u001b[36m   5.843\u001b[0m │ \u001b[36m   0.8281\u001b[0m │ \u001b[36m  4.3\u001b[0m │ \u001b[36m  5.1\u001b[0m │ \u001b[36m   5.8\u001b[0m │ \u001b[36m 6.4\u001b[0m │ \u001b[36m  7.9\u001b[0m │ \u001b[32m▃▇▇▇▅▂ \u001b[0m │  │\n",
       "│ │ \u001b[38;5;141msepal_width      \u001b[0m │ \u001b[36m   0\u001b[0m │ \u001b[36m     0\u001b[0m │ \u001b[36m   3.057\u001b[0m │ \u001b[36m   0.4359\u001b[0m │ \u001b[36m    2\u001b[0m │ \u001b[36m  2.8\u001b[0m │ \u001b[36m     3\u001b[0m │ \u001b[36m 3.3\u001b[0m │ \u001b[36m  4.4\u001b[0m │ \u001b[32m▁▇▇▇▂▁ \u001b[0m │  │\n",
       "│ │ \u001b[38;5;141mpetal_length     \u001b[0m │ \u001b[36m   0\u001b[0m │ \u001b[36m     0\u001b[0m │ \u001b[36m   3.758\u001b[0m │ \u001b[36m    1.765\u001b[0m │ \u001b[36m    1\u001b[0m │ \u001b[36m  1.6\u001b[0m │ \u001b[36m  4.35\u001b[0m │ \u001b[36m 5.1\u001b[0m │ \u001b[36m  6.9\u001b[0m │ \u001b[32m▇ ▂▇▆▂ \u001b[0m │  │\n",
       "│ │ \u001b[38;5;141mpetal_width      \u001b[0m │ \u001b[36m   0\u001b[0m │ \u001b[36m     0\u001b[0m │ \u001b[36m   1.199\u001b[0m │ \u001b[36m   0.7622\u001b[0m │ \u001b[36m  0.1\u001b[0m │ \u001b[36m  0.3\u001b[0m │ \u001b[36m   1.3\u001b[0m │ \u001b[36m 1.8\u001b[0m │ \u001b[36m  2.5\u001b[0m │ \u001b[32m▇ ▂▆▅▃ \u001b[0m │  │\n",
       "│ └───────────────────┴──────┴────────┴──────────┴───────────┴───────┴───────┴────────┴──────┴───────┴─────────┘  │\n",
       "│ \u001b[3m                                                    string                                                    \u001b[0m  │\n",
       "│ ┏━━━━━━━━━┳━━━━┳━━━━━━┳━━━━━━━━━━┳━━━━━━━━━━━━┳━━━━━━━━┳━━━━━━━━━━━┳━━━━━━━━━━━━━┳━━━━━━━━━━━━━┳━━━━━━━━━━━━━┓  │\n",
       "│ ┃\u001b[1m         \u001b[0m┃\u001b[1m    \u001b[0m┃\u001b[1m      \u001b[0m┃\u001b[1m          \u001b[0m┃\u001b[1m            \u001b[0m┃\u001b[1m        \u001b[0m┃\u001b[1m           \u001b[0m┃\u001b[1m \u001b[0m\u001b[1mchars per  \u001b[0m\u001b[1m \u001b[0m┃\u001b[1m \u001b[0m\u001b[1mwords per  \u001b[0m\u001b[1m \u001b[0m┃\u001b[1m             \u001b[0m┃  │\n",
       "│ ┃\u001b[1m \u001b[0m\u001b[1mcolumn \u001b[0m\u001b[1m \u001b[0m┃\u001b[1m \u001b[0m\u001b[1mNA\u001b[0m\u001b[1m \u001b[0m┃\u001b[1m \u001b[0m\u001b[1mNA %\u001b[0m\u001b[1m \u001b[0m┃\u001b[1m \u001b[0m\u001b[1mshortest\u001b[0m\u001b[1m \u001b[0m┃\u001b[1m \u001b[0m\u001b[1mlongest   \u001b[0m\u001b[1m \u001b[0m┃\u001b[1m \u001b[0m\u001b[1mmin   \u001b[0m\u001b[1m \u001b[0m┃\u001b[1m \u001b[0m\u001b[1mmax      \u001b[0m\u001b[1m \u001b[0m┃\u001b[1m \u001b[0m\u001b[1mrow        \u001b[0m\u001b[1m \u001b[0m┃\u001b[1m \u001b[0m\u001b[1mrow        \u001b[0m\u001b[1m \u001b[0m┃\u001b[1m \u001b[0m\u001b[1mtotal words\u001b[0m\u001b[1m \u001b[0m┃  │\n",
       "│ ┡━━━━━━━━━╇━━━━╇━━━━━━╇━━━━━━━━━━╇━━━━━━━━━━━━╇━━━━━━━━╇━━━━━━━━━━━╇━━━━━━━━━━━━━╇━━━━━━━━━━━━━╇━━━━━━━━━━━━━┩  │\n",
       "│ │ \u001b[38;5;141mspecies\u001b[0m │ \u001b[36m 0\u001b[0m │ \u001b[36m   0\u001b[0m │ \u001b[38;5;141msetosa  \u001b[0m │ \u001b[38;5;141mversicolor\u001b[0m │ \u001b[38;5;141msetosa\u001b[0m │ \u001b[38;5;141mvirginica\u001b[0m │ \u001b[36m       8.33\u001b[0m │ \u001b[36m          1\u001b[0m │ \u001b[36m        150\u001b[0m │  │\n",
       "│ └─────────┴────┴──────┴──────────┴────────────┴────────┴───────────┴─────────────┴─────────────┴─────────────┘  │\n",
       "╰────────────────────────────────────────────────────── End ──────────────────────────────────────────────────────╯\n"
      ]
     },
     "metadata": {},
     "output_type": "display_data"
    }
   ],
   "source": [
    "skim(df_pd)"
   ]
  },
  {
   "cell_type": "code",
   "execution_count": 5,
   "metadata": {},
   "outputs": [
    {
     "data": {
      "text/html": [
       "<pre style=\"white-space:pre;overflow-x:auto;line-height:normal;font-family:Menlo,'DejaVu Sans Mono',consolas,'Courier New',monospace\">╭──────────────────────────────────────────────── skimpy summary ─────────────────────────────────────────────────╮\n",
       "│ <span style=\"font-style: italic\">         Data Summary         </span> <span style=\"font-style: italic\">      Data Types       </span>                                                          │\n",
       "│ ┏━━━━━━━━━━━━━━━━━━━┳━━━━━━━━┓ ┏━━━━━━━━━━━━━┳━━━━━━━┓                                                          │\n",
       "│ ┃<span style=\"color: #008080; text-decoration-color: #008080; font-weight: bold\"> Dataframe         </span>┃<span style=\"color: #008080; text-decoration-color: #008080; font-weight: bold\"> Values </span>┃ ┃<span style=\"color: #008080; text-decoration-color: #008080; font-weight: bold\"> Column Type </span>┃<span style=\"color: #008080; text-decoration-color: #008080; font-weight: bold\"> Count </span>┃                                                          │\n",
       "│ ┡━━━━━━━━━━━━━━━━━━━╇━━━━━━━━┩ ┡━━━━━━━━━━━━━╇━━━━━━━┩                                                          │\n",
       "│ │ Number of rows    │ 150    │ │ float64     │ 4     │                                                          │\n",
       "│ │ Number of columns │ 5      │ │ string      │ 1     │                                                          │\n",
       "│ └───────────────────┴────────┘ └─────────────┴───────┘                                                          │\n",
       "│ <span style=\"font-style: italic\">                                                    number                                                    </span>  │\n",
       "│ ┏━━━━━━━━━━━━━━━━━━━┳━━━━━━┳━━━━━━━━┳━━━━━━━━━━┳━━━━━━━━━━━┳━━━━━━━┳━━━━━━━┳━━━━━━━━┳━━━━━━┳━━━━━━━┳━━━━━━━━━┓  │\n",
       "│ ┃<span style=\"font-weight: bold\"> column            </span>┃<span style=\"font-weight: bold\"> NA   </span>┃<span style=\"font-weight: bold\"> NA %   </span>┃<span style=\"font-weight: bold\"> mean     </span>┃<span style=\"font-weight: bold\"> sd        </span>┃<span style=\"font-weight: bold\"> p0    </span>┃<span style=\"font-weight: bold\"> p25   </span>┃<span style=\"font-weight: bold\"> p50    </span>┃<span style=\"font-weight: bold\"> p75  </span>┃<span style=\"font-weight: bold\"> p100  </span>┃<span style=\"font-weight: bold\"> hist    </span>┃  │\n",
       "│ ┡━━━━━━━━━━━━━━━━━━━╇━━━━━━╇━━━━━━━━╇━━━━━━━━━━╇━━━━━━━━━━━╇━━━━━━━╇━━━━━━━╇━━━━━━━━╇━━━━━━╇━━━━━━━╇━━━━━━━━━┩  │\n",
       "│ │ <span style=\"color: #af87ff; text-decoration-color: #af87ff\">sepal_length     </span> │ <span style=\"color: #008080; text-decoration-color: #008080\">   0</span> │ <span style=\"color: #008080; text-decoration-color: #008080\">     0</span> │ <span style=\"color: #008080; text-decoration-color: #008080\">   5.843</span> │ <span style=\"color: #008080; text-decoration-color: #008080\">   0.8281</span> │ <span style=\"color: #008080; text-decoration-color: #008080\">  4.3</span> │ <span style=\"color: #008080; text-decoration-color: #008080\">  5.1</span> │ <span style=\"color: #008080; text-decoration-color: #008080\">   5.8</span> │ <span style=\"color: #008080; text-decoration-color: #008080\"> 6.4</span> │ <span style=\"color: #008080; text-decoration-color: #008080\">  7.9</span> │ <span style=\"color: #008000; text-decoration-color: #008000\">▃▇▇▇▅▂ </span> │  │\n",
       "│ │ <span style=\"color: #af87ff; text-decoration-color: #af87ff\">sepal_width      </span> │ <span style=\"color: #008080; text-decoration-color: #008080\">   0</span> │ <span style=\"color: #008080; text-decoration-color: #008080\">     0</span> │ <span style=\"color: #008080; text-decoration-color: #008080\">   3.057</span> │ <span style=\"color: #008080; text-decoration-color: #008080\">   0.4359</span> │ <span style=\"color: #008080; text-decoration-color: #008080\">    2</span> │ <span style=\"color: #008080; text-decoration-color: #008080\">  2.8</span> │ <span style=\"color: #008080; text-decoration-color: #008080\">     3</span> │ <span style=\"color: #008080; text-decoration-color: #008080\"> 3.3</span> │ <span style=\"color: #008080; text-decoration-color: #008080\">  4.4</span> │ <span style=\"color: #008000; text-decoration-color: #008000\">▁▇▇▇▂▁ </span> │  │\n",
       "│ │ <span style=\"color: #af87ff; text-decoration-color: #af87ff\">petal_length     </span> │ <span style=\"color: #008080; text-decoration-color: #008080\">   0</span> │ <span style=\"color: #008080; text-decoration-color: #008080\">     0</span> │ <span style=\"color: #008080; text-decoration-color: #008080\">   3.758</span> │ <span style=\"color: #008080; text-decoration-color: #008080\">    1.765</span> │ <span style=\"color: #008080; text-decoration-color: #008080\">    1</span> │ <span style=\"color: #008080; text-decoration-color: #008080\">  1.6</span> │ <span style=\"color: #008080; text-decoration-color: #008080\">  4.35</span> │ <span style=\"color: #008080; text-decoration-color: #008080\"> 5.1</span> │ <span style=\"color: #008080; text-decoration-color: #008080\">  6.9</span> │ <span style=\"color: #008000; text-decoration-color: #008000\">▇ ▂▇▆▂ </span> │  │\n",
       "│ │ <span style=\"color: #af87ff; text-decoration-color: #af87ff\">petal_width      </span> │ <span style=\"color: #008080; text-decoration-color: #008080\">   0</span> │ <span style=\"color: #008080; text-decoration-color: #008080\">     0</span> │ <span style=\"color: #008080; text-decoration-color: #008080\">   1.199</span> │ <span style=\"color: #008080; text-decoration-color: #008080\">   0.7622</span> │ <span style=\"color: #008080; text-decoration-color: #008080\">  0.1</span> │ <span style=\"color: #008080; text-decoration-color: #008080\">  0.3</span> │ <span style=\"color: #008080; text-decoration-color: #008080\">   1.3</span> │ <span style=\"color: #008080; text-decoration-color: #008080\"> 1.8</span> │ <span style=\"color: #008080; text-decoration-color: #008080\">  2.5</span> │ <span style=\"color: #008000; text-decoration-color: #008000\">▇ ▂▆▅▃ </span> │  │\n",
       "│ └───────────────────┴──────┴────────┴──────────┴───────────┴───────┴───────┴────────┴──────┴───────┴─────────┘  │\n",
       "│ <span style=\"font-style: italic\">                                                    string                                                    </span>  │\n",
       "│ ┏━━━━━━━━━┳━━━━┳━━━━━━┳━━━━━━━━━━┳━━━━━━━━━━━━┳━━━━━━━━┳━━━━━━━━━━━┳━━━━━━━━━━━━━┳━━━━━━━━━━━━━┳━━━━━━━━━━━━━┓  │\n",
       "│ ┃<span style=\"font-weight: bold\">         </span>┃<span style=\"font-weight: bold\">    </span>┃<span style=\"font-weight: bold\">      </span>┃<span style=\"font-weight: bold\">          </span>┃<span style=\"font-weight: bold\">            </span>┃<span style=\"font-weight: bold\">        </span>┃<span style=\"font-weight: bold\">           </span>┃<span style=\"font-weight: bold\"> chars per   </span>┃<span style=\"font-weight: bold\"> words per   </span>┃<span style=\"font-weight: bold\">             </span>┃  │\n",
       "│ ┃<span style=\"font-weight: bold\"> column  </span>┃<span style=\"font-weight: bold\"> NA </span>┃<span style=\"font-weight: bold\"> NA % </span>┃<span style=\"font-weight: bold\"> shortest </span>┃<span style=\"font-weight: bold\"> longest    </span>┃<span style=\"font-weight: bold\"> min    </span>┃<span style=\"font-weight: bold\"> max       </span>┃<span style=\"font-weight: bold\"> row         </span>┃<span style=\"font-weight: bold\"> row         </span>┃<span style=\"font-weight: bold\"> total words </span>┃  │\n",
       "│ ┡━━━━━━━━━╇━━━━╇━━━━━━╇━━━━━━━━━━╇━━━━━━━━━━━━╇━━━━━━━━╇━━━━━━━━━━━╇━━━━━━━━━━━━━╇━━━━━━━━━━━━━╇━━━━━━━━━━━━━┩  │\n",
       "│ │ <span style=\"color: #af87ff; text-decoration-color: #af87ff\">species</span> │ <span style=\"color: #008080; text-decoration-color: #008080\"> 0</span> │ <span style=\"color: #008080; text-decoration-color: #008080\">   0</span> │ <span style=\"color: #af87ff; text-decoration-color: #af87ff\">setosa  </span> │ <span style=\"color: #af87ff; text-decoration-color: #af87ff\">versicolor</span> │ <span style=\"color: #af87ff; text-decoration-color: #af87ff\">setosa</span> │ <span style=\"color: #af87ff; text-decoration-color: #af87ff\">virginica</span> │ <span style=\"color: #008080; text-decoration-color: #008080\">       8.33</span> │ <span style=\"color: #008080; text-decoration-color: #008080\">          1</span> │ <span style=\"color: #008080; text-decoration-color: #008080\">        150</span> │  │\n",
       "│ └─────────┴────┴──────┴──────────┴────────────┴────────┴───────────┴─────────────┴─────────────┴─────────────┘  │\n",
       "╰────────────────────────────────────────────────────── End ──────────────────────────────────────────────────────╯\n",
       "</pre>\n"
      ],
      "text/plain": [
       "╭──────────────────────────────────────────────── skimpy summary ─────────────────────────────────────────────────╮\n",
       "│ \u001b[3m         Data Summary         \u001b[0m \u001b[3m      Data Types       \u001b[0m                                                          │\n",
       "│ ┏━━━━━━━━━━━━━━━━━━━┳━━━━━━━━┓ ┏━━━━━━━━━━━━━┳━━━━━━━┓                                                          │\n",
       "│ ┃\u001b[1;36m \u001b[0m\u001b[1;36mDataframe        \u001b[0m\u001b[1;36m \u001b[0m┃\u001b[1;36m \u001b[0m\u001b[1;36mValues\u001b[0m\u001b[1;36m \u001b[0m┃ ┃\u001b[1;36m \u001b[0m\u001b[1;36mColumn Type\u001b[0m\u001b[1;36m \u001b[0m┃\u001b[1;36m \u001b[0m\u001b[1;36mCount\u001b[0m\u001b[1;36m \u001b[0m┃                                                          │\n",
       "│ ┡━━━━━━━━━━━━━━━━━━━╇━━━━━━━━┩ ┡━━━━━━━━━━━━━╇━━━━━━━┩                                                          │\n",
       "│ │ Number of rows    │ 150    │ │ float64     │ 4     │                                                          │\n",
       "│ │ Number of columns │ 5      │ │ string      │ 1     │                                                          │\n",
       "│ └───────────────────┴────────┘ └─────────────┴───────┘                                                          │\n",
       "│ \u001b[3m                                                    number                                                    \u001b[0m  │\n",
       "│ ┏━━━━━━━━━━━━━━━━━━━┳━━━━━━┳━━━━━━━━┳━━━━━━━━━━┳━━━━━━━━━━━┳━━━━━━━┳━━━━━━━┳━━━━━━━━┳━━━━━━┳━━━━━━━┳━━━━━━━━━┓  │\n",
       "│ ┃\u001b[1m \u001b[0m\u001b[1mcolumn           \u001b[0m\u001b[1m \u001b[0m┃\u001b[1m \u001b[0m\u001b[1mNA  \u001b[0m\u001b[1m \u001b[0m┃\u001b[1m \u001b[0m\u001b[1mNA %  \u001b[0m\u001b[1m \u001b[0m┃\u001b[1m \u001b[0m\u001b[1mmean    \u001b[0m\u001b[1m \u001b[0m┃\u001b[1m \u001b[0m\u001b[1msd       \u001b[0m\u001b[1m \u001b[0m┃\u001b[1m \u001b[0m\u001b[1mp0   \u001b[0m\u001b[1m \u001b[0m┃\u001b[1m \u001b[0m\u001b[1mp25  \u001b[0m\u001b[1m \u001b[0m┃\u001b[1m \u001b[0m\u001b[1mp50   \u001b[0m\u001b[1m \u001b[0m┃\u001b[1m \u001b[0m\u001b[1mp75 \u001b[0m\u001b[1m \u001b[0m┃\u001b[1m \u001b[0m\u001b[1mp100 \u001b[0m\u001b[1m \u001b[0m┃\u001b[1m \u001b[0m\u001b[1mhist   \u001b[0m\u001b[1m \u001b[0m┃  │\n",
       "│ ┡━━━━━━━━━━━━━━━━━━━╇━━━━━━╇━━━━━━━━╇━━━━━━━━━━╇━━━━━━━━━━━╇━━━━━━━╇━━━━━━━╇━━━━━━━━╇━━━━━━╇━━━━━━━╇━━━━━━━━━┩  │\n",
       "│ │ \u001b[38;5;141msepal_length     \u001b[0m │ \u001b[36m   0\u001b[0m │ \u001b[36m     0\u001b[0m │ \u001b[36m   5.843\u001b[0m │ \u001b[36m   0.8281\u001b[0m │ \u001b[36m  4.3\u001b[0m │ \u001b[36m  5.1\u001b[0m │ \u001b[36m   5.8\u001b[0m │ \u001b[36m 6.4\u001b[0m │ \u001b[36m  7.9\u001b[0m │ \u001b[32m▃▇▇▇▅▂ \u001b[0m │  │\n",
       "│ │ \u001b[38;5;141msepal_width      \u001b[0m │ \u001b[36m   0\u001b[0m │ \u001b[36m     0\u001b[0m │ \u001b[36m   3.057\u001b[0m │ \u001b[36m   0.4359\u001b[0m │ \u001b[36m    2\u001b[0m │ \u001b[36m  2.8\u001b[0m │ \u001b[36m     3\u001b[0m │ \u001b[36m 3.3\u001b[0m │ \u001b[36m  4.4\u001b[0m │ \u001b[32m▁▇▇▇▂▁ \u001b[0m │  │\n",
       "│ │ \u001b[38;5;141mpetal_length     \u001b[0m │ \u001b[36m   0\u001b[0m │ \u001b[36m     0\u001b[0m │ \u001b[36m   3.758\u001b[0m │ \u001b[36m    1.765\u001b[0m │ \u001b[36m    1\u001b[0m │ \u001b[36m  1.6\u001b[0m │ \u001b[36m  4.35\u001b[0m │ \u001b[36m 5.1\u001b[0m │ \u001b[36m  6.9\u001b[0m │ \u001b[32m▇ ▂▇▆▂ \u001b[0m │  │\n",
       "│ │ \u001b[38;5;141mpetal_width      \u001b[0m │ \u001b[36m   0\u001b[0m │ \u001b[36m     0\u001b[0m │ \u001b[36m   1.199\u001b[0m │ \u001b[36m   0.7622\u001b[0m │ \u001b[36m  0.1\u001b[0m │ \u001b[36m  0.3\u001b[0m │ \u001b[36m   1.3\u001b[0m │ \u001b[36m 1.8\u001b[0m │ \u001b[36m  2.5\u001b[0m │ \u001b[32m▇ ▂▆▅▃ \u001b[0m │  │\n",
       "│ └───────────────────┴──────┴────────┴──────────┴───────────┴───────┴───────┴────────┴──────┴───────┴─────────┘  │\n",
       "│ \u001b[3m                                                    string                                                    \u001b[0m  │\n",
       "│ ┏━━━━━━━━━┳━━━━┳━━━━━━┳━━━━━━━━━━┳━━━━━━━━━━━━┳━━━━━━━━┳━━━━━━━━━━━┳━━━━━━━━━━━━━┳━━━━━━━━━━━━━┳━━━━━━━━━━━━━┓  │\n",
       "│ ┃\u001b[1m         \u001b[0m┃\u001b[1m    \u001b[0m┃\u001b[1m      \u001b[0m┃\u001b[1m          \u001b[0m┃\u001b[1m            \u001b[0m┃\u001b[1m        \u001b[0m┃\u001b[1m           \u001b[0m┃\u001b[1m \u001b[0m\u001b[1mchars per  \u001b[0m\u001b[1m \u001b[0m┃\u001b[1m \u001b[0m\u001b[1mwords per  \u001b[0m\u001b[1m \u001b[0m┃\u001b[1m             \u001b[0m┃  │\n",
       "│ ┃\u001b[1m \u001b[0m\u001b[1mcolumn \u001b[0m\u001b[1m \u001b[0m┃\u001b[1m \u001b[0m\u001b[1mNA\u001b[0m\u001b[1m \u001b[0m┃\u001b[1m \u001b[0m\u001b[1mNA %\u001b[0m\u001b[1m \u001b[0m┃\u001b[1m \u001b[0m\u001b[1mshortest\u001b[0m\u001b[1m \u001b[0m┃\u001b[1m \u001b[0m\u001b[1mlongest   \u001b[0m\u001b[1m \u001b[0m┃\u001b[1m \u001b[0m\u001b[1mmin   \u001b[0m\u001b[1m \u001b[0m┃\u001b[1m \u001b[0m\u001b[1mmax      \u001b[0m\u001b[1m \u001b[0m┃\u001b[1m \u001b[0m\u001b[1mrow        \u001b[0m\u001b[1m \u001b[0m┃\u001b[1m \u001b[0m\u001b[1mrow        \u001b[0m\u001b[1m \u001b[0m┃\u001b[1m \u001b[0m\u001b[1mtotal words\u001b[0m\u001b[1m \u001b[0m┃  │\n",
       "│ ┡━━━━━━━━━╇━━━━╇━━━━━━╇━━━━━━━━━━╇━━━━━━━━━━━━╇━━━━━━━━╇━━━━━━━━━━━╇━━━━━━━━━━━━━╇━━━━━━━━━━━━━╇━━━━━━━━━━━━━┩  │\n",
       "│ │ \u001b[38;5;141mspecies\u001b[0m │ \u001b[36m 0\u001b[0m │ \u001b[36m   0\u001b[0m │ \u001b[38;5;141msetosa  \u001b[0m │ \u001b[38;5;141mversicolor\u001b[0m │ \u001b[38;5;141msetosa\u001b[0m │ \u001b[38;5;141mvirginica\u001b[0m │ \u001b[36m       8.33\u001b[0m │ \u001b[36m          1\u001b[0m │ \u001b[36m        150\u001b[0m │  │\n",
       "│ └─────────┴────┴──────┴──────────┴────────────┴────────┴───────────┴─────────────┴─────────────┴─────────────┘  │\n",
       "╰────────────────────────────────────────────────────── End ──────────────────────────────────────────────────────╯\n"
      ]
     },
     "metadata": {},
     "output_type": "display_data"
    }
   ],
   "source": [
    "skim(df_pl)"
   ]
  },
  {
   "cell_type": "code",
   "execution_count": null,
   "metadata": {},
   "outputs": [],
   "source": []
  }
 ],
 "metadata": {
  "kernelspec": {
   "display_name": "Python 3",
   "language": "python",
   "name": "python3"
  },
  "language_info": {
   "codemirror_mode": {
    "name": "ipython",
    "version": 3
   },
   "file_extension": ".py",
   "mimetype": "text/x-python",
   "name": "python",
   "nbconvert_exporter": "python",
   "pygments_lexer": "ipython3",
   "version": "3.12.5"
  }
 },
 "nbformat": 4,
 "nbformat_minor": 2
}
